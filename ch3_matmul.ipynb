{
 "cells": [
  {
   "cell_type": "code",
   "execution_count": 2,
   "id": "f9b007a4",
   "metadata": {},
   "outputs": [
    {
     "name": "stdout",
     "output_type": "stream",
     "text": [
      "[5, 7, 9]\n"
     ]
    }
   ],
   "source": [
    "u = [1,2,3]\n",
    "v = [4,5,6]\n",
    "\n",
    "n = len(u)\n",
    "w = []\n",
    "\n",
    "for i in range(0, n):\n",
    "    val = u[i] + v[i]\n",
    "    w.append(val)\n",
    "    \n",
    "print(w) # [5,7,9]"
   ]
  },
  {
   "cell_type": "code",
   "execution_count": 3,
   "id": "01a0a2d7",
   "metadata": {},
   "outputs": [
    {
     "ename": "TypeError",
     "evalue": "can't multiply sequence by non-int of type 'list'",
     "output_type": "error",
     "traceback": [
      "\u001b[1;31m---------------------------------------------------------------------------\u001b[0m",
      "\u001b[1;31mTypeError\u001b[0m                                 Traceback (most recent call last)",
      "Cell \u001b[1;32mIn[3], line 1\u001b[0m\n\u001b[1;32m----> 1\u001b[0m \u001b[43m[\u001b[49m\u001b[38;5;241;43m1\u001b[39;49m\u001b[43m,\u001b[49m\u001b[38;5;241;43m2\u001b[39;49m\u001b[43m,\u001b[49m\u001b[38;5;241;43m3\u001b[39;49m\u001b[43m]\u001b[49m\u001b[43m \u001b[49m\u001b[38;5;241;43m*\u001b[39;49m\u001b[43m \u001b[49m\u001b[43m[\u001b[49m\u001b[38;5;241;43m4\u001b[39;49m\u001b[43m,\u001b[49m\u001b[38;5;241;43m5\u001b[39;49m\u001b[43m,\u001b[49m\u001b[38;5;241;43m6\u001b[39;49m\u001b[43m]\u001b[49m\n",
      "\u001b[1;31mTypeError\u001b[0m: can't multiply sequence by non-int of type 'list'"
     ]
    }
   ],
   "source": [
    "[1,2,3] * [4,5,6]"
   ]
  },
  {
   "cell_type": "code",
   "execution_count": 5,
   "id": "ce20418b",
   "metadata": {},
   "outputs": [
    {
     "name": "stdout",
     "output_type": "stream",
     "text": [
      "[[3, 11], [7, 3], [8, 6]]\n"
     ]
    }
   ],
   "source": [
    "A = [[2,7], [3,4], [6,1]]\n",
    "B = [[1,4], [4,-1], [2,5]]\n",
    "\n",
    "n = len(A)\n",
    "p = len(A[0])\n",
    "\n",
    "res = []\n",
    "for i in range(0, n):\n",
    "    row = []\n",
    "    for j in range(0,p):\n",
    "        val = A[i][j] + B[i][j]\n",
    "        row.append(val)\n",
    "    res.append(row)\n",
    "\n",
    "print(res)"
   ]
  },
  {
   "cell_type": "code",
   "execution_count": 10,
   "id": "727bd451",
   "metadata": {},
   "outputs": [
    {
     "name": "stdout",
     "output_type": "stream",
     "text": [
      "[[-1, 8, 3], [5, -1, 11], [13, -11, 23]]\n"
     ]
    }
   ],
   "source": [
    "A = [[2,7],[3,4],[5,2]]\n",
    "B = [[3,-3,5],[-1,2,-1]]\n",
    "\n",
    "res = [[0 for i in range(len(A))] for i in range(len(B[0]))]\n",
    "\n",
    "for i in range(len(A)):\n",
    "    for k in range(len(A)):\n",
    "        mul = 0\n",
    "        for j in range(len(B)):\n",
    "            val = A[i][j] * B[j][k]\n",
    "            mul += val\n",
    "        res[i][k] = mul\n",
    "    \n",
    "print(res)"
   ]
  },
  {
   "cell_type": "code",
   "execution_count": 11,
   "id": "d05ca9a4",
   "metadata": {},
   "outputs": [
    {
     "name": "stdout",
     "output_type": "stream",
     "text": [
      "[[-1, 8, 3], [5, -1, 11], [13, -11, 23]]\n"
     ]
    }
   ],
   "source": [
    "A = [[2,7],[3,4],[5,2]]\n",
    "B = [[3,-3,5],[-1,2,-1]]\n",
    "\n",
    "res = []\n",
    "\n",
    "for i in range(len(A)): # 3\n",
    "    row = []\n",
    "    # 0번째 행의 0번째 칸~ 3번째 칸 \n",
    "    # 3번째 행의 3번째 칸까지 \n",
    "    for j in range(len(B[0])): # 3\n",
    "        mul = 0\n",
    "        for k in range(len(B)): # 2\n",
    "            val = A[i][k] * B[k][j]\n",
    "            mul += val\n",
    "        row.append(mul)\n",
    "    res.append(row)\n",
    "    \n",
    "print(res)"
   ]
  },
  {
   "cell_type": "code",
   "execution_count": 12,
   "id": "f93a9f2f",
   "metadata": {},
   "outputs": [],
   "source": [
    "def matrix_mul(A,B):\n",
    "    \n",
    "    res = []\n",
    "    \n",
    "    for i in range(len(A)):\n",
    "        row = []\n",
    "        for j in range(len(B[0])):\n",
    "            m = 0\n",
    "            for k in range(len(B)):\n",
    "                v = A[i][k]*B[k][j]\n",
    "                m += v\n",
    "            row.append(m)\n",
    "        res.append(row)\n",
    "    \n",
    "    return res\n",
    "\n"
   ]
  },
  {
   "cell_type": "code",
   "execution_count": 14,
   "id": "882f7c3c",
   "metadata": {},
   "outputs": [
    {
     "data": {
      "text/plain": [
       "[[-25, 45], [44, 46]]"
      ]
     },
     "execution_count": 14,
     "metadata": {},
     "output_type": "execute_result"
    }
   ],
   "source": [
    "# (2,4)\n",
    "a = [[3,-1,2,4], \n",
    "     [9,10,0,-3]]\n",
    "# (4,2)\n",
    "b = [[1,3],\n",
    "     [2,4],\n",
    "     [-3,6],\n",
    "     [-5,7]]\n",
    "\n",
    "# 행렬곱: (2,2)\n",
    "matrix_mul(a,b)"
   ]
  },
  {
   "cell_type": "code",
   "execution_count": 17,
   "id": "e6b78f00",
   "metadata": {},
   "outputs": [
    {
     "data": {
      "text/plain": [
       "array([[[  6,  12,  18],\n",
       "        [ 15,  30,  45],\n",
       "        [ 24,  48,  72]],\n",
       "\n",
       "       [[ 33,  66,  99],\n",
       "        [ 42,  84, 126],\n",
       "        [ 51, 102, 153]]])"
      ]
     },
     "execution_count": 17,
     "metadata": {},
     "output_type": "execute_result"
    }
   ],
   "source": [
    "# 3차원 이상의 텐서에서는 ?\n",
    "# (2,3,3)\n",
    "c = [[[1,2,3],\n",
    "     [4,5,6],\n",
    "     [7,8,9]],\n",
    "    \n",
    "    [[10,11,12],\n",
    "    [13,14,15],\n",
    "    [16,17,18]]]\n",
    "\n",
    "# (2,3,3)\n",
    "d = [[[1,2,3],\n",
    "     [1,2,3],\n",
    "     [1,2,3]],\n",
    "    \n",
    "    [[1,2,3],\n",
    "    [1,2,3],\n",
    "    [1,2,3]]]\n",
    "\n",
    "# 오류 matrix_mul(c,d)\n",
    "\n",
    "import numpy as np\n",
    "\n",
    "C = np.array(c)\n",
    "D = np.array(d)\n",
    "\n",
    "np.matmul(C,D)\n",
    "# (a,b,c) * (a,c,d) --> (a,b,d) 크기"
   ]
  },
  {
   "cell_type": "code",
   "execution_count": 18,
   "id": "5d67cee9",
   "metadata": {},
   "outputs": [
    {
     "data": {
      "text/plain": [
       "array([[[ 1,  4,  9],\n",
       "        [ 4, 10, 18],\n",
       "        [ 7, 16, 27]],\n",
       "\n",
       "       [[10, 22, 36],\n",
       "        [13, 28, 45],\n",
       "        [16, 34, 54]]])"
      ]
     },
     "execution_count": 18,
     "metadata": {},
     "output_type": "execute_result"
    }
   ],
   "source": [
    "# 텐서의 원소곱\n",
    "np.multiply(C,D)"
   ]
  },
  {
   "cell_type": "code",
   "execution_count": 22,
   "id": "d6cf49b5",
   "metadata": {},
   "outputs": [
    {
     "data": {
      "text/plain": [
       "[[-25, 45], [44, 46]]"
      ]
     },
     "execution_count": 22,
     "metadata": {},
     "output_type": "execute_result"
    }
   ],
   "source": [
    "def matmul(m1, m2):\n",
    "    \n",
    "    res = [[0]*len(m1) for i in range(len(m2[0]))]\n",
    "    \n",
    "    for i in range(len(m1)):\n",
    "        for j in range(len(m2[0])):\n",
    "            for k in range(len(m2)):\n",
    "                res[i][j] += m1[i][k] * m2[k][j]\n",
    "    \n",
    "    return res               \n",
    "\n",
    "matmul(a,b)"
   ]
  },
  {
   "cell_type": "code",
   "execution_count": null,
   "id": "7ca4d21b",
   "metadata": {},
   "outputs": [],
   "source": []
  }
 ],
 "metadata": {
  "kernelspec": {
   "display_name": "Python 3 (ipykernel)",
   "language": "python",
   "name": "python3"
  },
  "language_info": {
   "codemirror_mode": {
    "name": "ipython",
    "version": 3
   },
   "file_extension": ".py",
   "mimetype": "text/x-python",
   "name": "python",
   "nbconvert_exporter": "python",
   "pygments_lexer": "ipython3",
   "version": "3.8.5"
  }
 },
 "nbformat": 4,
 "nbformat_minor": 5
}
